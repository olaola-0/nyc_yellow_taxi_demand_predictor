{
 "cells": [
  {
   "cell_type": "code",
   "execution_count": 1,
   "metadata": {},
   "outputs": [],
   "source": [
    "%load_ext autoreload\n",
    "%autoreload 2"
   ]
  },
  {
   "cell_type": "code",
   "execution_count": 2,
   "metadata": {},
   "outputs": [
    {
     "name": "stdout",
     "output_type": "stream",
     "text": [
      "current_date=Timestamp('2023-11-08 01:00:00')\n"
     ]
    }
   ],
   "source": [
    "from datetime import datetime, timedelta\n",
    "import pandas as pd\n",
    "\n",
    "current_date = pd.to_datetime(datetime.utcnow()).floor('H')\n",
    "print(f'{current_date=}')"
   ]
  },
  {
   "cell_type": "code",
   "execution_count": 3,
   "metadata": {},
   "outputs": [
    {
     "name": "stdout",
     "output_type": "stream",
     "text": [
      "Connected. Call `.close()` to terminate connection gracefully.\n",
      "\n",
      "Logged in to project, explore it here https://c.app.hopsworks.ai:443/p/143509\n",
      "Connected. Call `.close()` to terminate connection gracefully.\n"
     ]
    },
    {
     "name": "stderr",
     "output_type": "stream",
     "text": [
      "2023-11-08 02:14:39,727 - dataflow - INFO - Feature view already exists or another error occurred: Metadata operation error: (url: https://c.app.hopsworks.ai/hopsworks-api/api/project/143509/featurestores/143428/featureview). Server response: \n",
      "HTTP code: 400, HTTP reason: Bad Request, body: b'{\"errorCode\":270179,\"usrMsg\":\"Feature view: time_series_hourly_feature_view, version: 1\",\"errorMsg\":\"The provided feature view name and version already exists\"}', error code: 270179, error msg: The provided feature view name and version already exists, user msg: Feature view: time_series_hourly_feature_view, version: 1\n"
     ]
    },
    {
     "name": "stdout",
     "output_type": "stream",
     "text": [
      "2023-11-08 02:14:39,727 INFO: Feature view already exists or another error occurred: Metadata operation error: (url: https://c.app.hopsworks.ai/hopsworks-api/api/project/143509/featurestores/143428/featureview). Server response: \n",
      "HTTP code: 400, HTTP reason: Bad Request, body: b'{\"errorCode\":270179,\"usrMsg\":\"Feature view: time_series_hourly_feature_view, version: 1\",\"errorMsg\":\"The provided feature view name and version already exists\"}', error code: 270179, error msg: The provided feature view name and version already exists, user msg: Feature view: time_series_hourly_feature_view, version: 1\n",
      "Connection closed.\n",
      "Connected. Call `.close()` to terminate connection gracefully.\n",
      "\n",
      "Logged in to project, explore it here https://c.app.hopsworks.ai:443/p/143509\n",
      "Connected. Call `.close()` to terminate connection gracefully.\n",
      "Reading data from Hopsworks, using ArrowFlight...   \r"
     ]
    },
    {
     "name": "stderr",
     "output_type": "stream",
     "text": [
      "2023-11-08 02:14:54,041 - dataflow - ERROR - Expected 175392 rows, but got 175074 rows.\n"
     ]
    },
    {
     "name": "stdout",
     "output_type": "stream",
     "text": [
      "Finished: Reading data from Hopsworks, using ArrowFlight (9.19s) \n",
      "2023-11-08 02:14:54,041 ERROR: Expected 175392 rows, but got 175074 rows.\n"
     ]
    },
    {
     "name": "stderr",
     "output_type": "stream",
     "text": [
      "2023-11-08 02:14:54,071 - dataflow - ERROR - Location ID 176 has 566 rows, expected 672.\n"
     ]
    },
    {
     "name": "stdout",
     "output_type": "stream",
     "text": [
      "2023-11-08 02:14:54,071 ERROR: Location ID 176 has 566 rows, expected 672.\n"
     ]
    },
    {
     "name": "stderr",
     "output_type": "stream",
     "text": [
      "2023-11-08 02:14:54,119 - dataflow - ERROR - Location ID 204 has 566 rows, expected 672.\n"
     ]
    },
    {
     "name": "stdout",
     "output_type": "stream",
     "text": [
      "2023-11-08 02:14:54,119 ERROR: Location ID 204 has 566 rows, expected 672.\n"
     ]
    },
    {
     "name": "stderr",
     "output_type": "stream",
     "text": [
      "2023-11-08 02:14:54,129 - dataflow - ERROR - Location ID 245 has 566 rows, expected 672.\n"
     ]
    },
    {
     "name": "stdout",
     "output_type": "stream",
     "text": [
      "2023-11-08 02:14:54,129 ERROR: Location ID 245 has 566 rows, expected 672.\n"
     ]
    },
    {
     "ename": "ValueError",
     "evalue": "Time-series data is not complete. Expected 175392 rows, but got 175074 rows. Make sure your feature pipeline is up and running.",
     "output_type": "error",
     "traceback": [
      "\u001b[1;31m---------------------------------------------------------------------------\u001b[0m",
      "\u001b[1;31mValueError\u001b[0m                                Traceback (most recent call last)",
      "Cell \u001b[1;32mIn[3], line 3\u001b[0m\n\u001b[0;32m      1\u001b[0m \u001b[39mfrom\u001b[39;00m \u001b[39msrc\u001b[39;00m\u001b[39m.\u001b[39;00m\u001b[39minference\u001b[39;00m \u001b[39mimport\u001b[39;00m load_batch_of_features_from_store\n\u001b[1;32m----> 3\u001b[0m features \u001b[39m=\u001b[39m load_batch_of_features_from_store(current_date\u001b[39m=\u001b[39;49mcurrent_date)\n",
      "File \u001b[1;32m~\\nyc_yellow_taxi_demand_predictor\\src\\inference.py:95\u001b[0m, in \u001b[0;36mload_batch_of_features_from_store\u001b[1;34m(current_date)\u001b[0m\n\u001b[0;32m     92\u001b[0m             logger\u001b[39m.\u001b[39merror(\u001b[39mf\u001b[39m\u001b[39m\"\u001b[39m\u001b[39mLocation ID \u001b[39m\u001b[39m{\u001b[39;00mlocation_id\u001b[39m}\u001b[39;00m\u001b[39m has \u001b[39m\u001b[39m{\u001b[39;00m\u001b[39mlen\u001b[39m(location_data)\u001b[39m}\u001b[39;00m\u001b[39m rows, expected \u001b[39m\u001b[39m{\u001b[39;00mconfig\u001b[39m.\u001b[39mN_FEATURES\u001b[39m}\u001b[39;00m\u001b[39m.\u001b[39m\u001b[39m\"\u001b[39m)\n\u001b[0;32m     94\u001b[0m     \u001b[39m# Now raise the error with the additional info\u001b[39;00m\n\u001b[1;32m---> 95\u001b[0m     \u001b[39mraise\u001b[39;00m \u001b[39mValueError\u001b[39;00m(\u001b[39mf\u001b[39m\u001b[39m\"\u001b[39m\u001b[39mTime-series data is not complete. \u001b[39m\u001b[39m{\u001b[39;00mmissing_data_info\u001b[39m}\u001b[39;00m\u001b[39m Make sure your feature pipeline is up and running.\u001b[39m\u001b[39m\"\u001b[39m)\n\u001b[0;32m     97\u001b[0m \u001b[39m# Sort the data by location ID and pickup hour\u001b[39;00m\n\u001b[0;32m     98\u001b[0m ts_data\u001b[39m.\u001b[39msort_values(by\u001b[39m=\u001b[39m[\u001b[39m'\u001b[39m\u001b[39mpickup_location_id\u001b[39m\u001b[39m'\u001b[39m, \u001b[39m'\u001b[39m\u001b[39mpickup_hour\u001b[39m\u001b[39m'\u001b[39m], inplace\u001b[39m=\u001b[39m\u001b[39mTrue\u001b[39;00m)\n",
      "\u001b[1;31mValueError\u001b[0m: Time-series data is not complete. Expected 175392 rows, but got 175074 rows. Make sure your feature pipeline is up and running."
     ]
    }
   ],
   "source": [
    "from src.inference import load_batch_of_features_from_store\n",
    "\n",
    "features = load_batch_of_features_from_store(current_date=current_date)"
   ]
  }
 ],
 "metadata": {
  "kernelspec": {
   "display_name": ".venv",
   "language": "python",
   "name": "python3"
  },
  "language_info": {
   "codemirror_mode": {
    "name": "ipython",
    "version": 3
   },
   "file_extension": ".py",
   "mimetype": "text/x-python",
   "name": "python",
   "nbconvert_exporter": "python",
   "pygments_lexer": "ipython3",
   "version": "3.10.2"
  },
  "orig_nbformat": 4
 },
 "nbformat": 4,
 "nbformat_minor": 2
}
